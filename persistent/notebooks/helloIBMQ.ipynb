{
 "cells": [
  {
   "cell_type": "code",
   "execution_count": null,
   "metadata": {},
   "outputs": [],
   "source": [
    "# Import the Qiskit SDK\n",
    "from qiskit import QuantumCircuit, ClassicalRegister, QuantumRegister\n",
    "from qiskit import execute, register\n",
    "\n",
    "# Set your API Token.\n",
    "# You can get it from https://quantumexperience.ng.bluemix.net/qx/account,\n",
    "# looking for \"Personal Access Token\" section.\n",
    "QX_TOKEN = \"231b55746a30cbd1e6565a6bda3d6b7a7bd7e062100144318308c25983420889876f5a0bb507d4c8de46be07436ace9b40ca4c39551b7bde3dbe37d584d20655\"\n",
    "QX_URL = \"https://quantumexperience.ng.bluemix.net/api\"\n",
    "\n",
    "# Authenticate with the IBM Q API in order to use online devices.\n",
    "# You need the API Token and the QX URL.\n",
    "register(QX_TOKEN, QX_URL)\n",
    "\n",
    "# Create a Quantum Register with 2 qubits.\n",
    "q = QuantumRegister(2)\n",
    "# Create a Classical Register with 2 bits.\n",
    "c = ClassicalRegister(2)\n",
    "# Create a Quantum Circuit\n",
    "qc = QuantumCircuit(q, c)\n",
    "\n",
    "# Add a H gate on qubit 0, putting this qubit in superposition.\n",
    "qc.h(q[0])\n",
    "# Add a CX (CNOT) gate on control qubit 0 and target qubit 1, putting\n",
    "# the qubits in a Bell state.\n",
    "qc.cx(q[0], q[1])\n",
    "# Add a Measure gate to see the state.\n",
    "qc.measure(q, c)\n",
    "\n",
    "# Compile and run the Quantum Program on a real device backend\n",
    "job_exp = execute(qc, 'ibmqx4', shots=1024, max_credits=10)\n",
    "result = job_exp.result()\n",
    "\n",
    "# Show the results\n",
    "print(result)\n",
    "print(result.get_data())\n",
    "\n",
    "\n"
   ]
  },
  {
   "cell_type": "code",
   "execution_count": null,
   "metadata": {},
   "outputs": [],
   "source": []
  }
 ],
 "metadata": {
  "kernelspec": {
   "display_name": "Python 3",
   "language": "python",
   "name": "python3"
  },
  "language_info": {
   "codemirror_mode": {
    "name": "ipython",
    "version": 3
   },
   "file_extension": ".py",
   "mimetype": "text/x-python",
   "name": "python",
   "nbconvert_exporter": "python",
   "pygments_lexer": "ipython3",
   "version": "3.6.6"
  }
 },
 "nbformat": 4,
 "nbformat_minor": 2
}
